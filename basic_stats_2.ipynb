{
 "cells": [
  {
   "cell_type": "markdown",
   "id": "adf6053a-108e-4fbf-94c4-8b7064cd7f47",
   "metadata": {},
   "source": [
    "# Estimation And Confidence Intervals"
   ]
  },
  {
   "cell_type": "markdown",
   "id": "c2213276-a8ff-4f27-bfbe-51590dcc0f7c",
   "metadata": {},
   "source": [
    "# Data"
   ]
  },
  {
   "cell_type": "raw",
   "id": "fd72f300-e293-4a9a-af38-8b4689e513d6",
   "metadata": {},
   "source": [
    "A total of 15 print-heads were randomly selected and tested until failure. The durability of each print-head (in millions of characters) was recorded as follows:\n",
    "1.13, 1.55, 1.43, 0.92, 1.25, 1.36, 1.32, 0.85, 1.07, 1.48, 1.20, 1.33, 1.18, 1.22, 1.29\n"
   ]
  },
  {
   "cell_type": "markdown",
   "id": "796016ef-dd69-42f4-b276-76f453564752",
   "metadata": {},
   "source": [
    "# Assignment Tasks\n",
    "# a. Build 99% Confidence Interval Using Sample Standard Deviation\n"
   ]
  },
  {
   "cell_type": "code",
   "execution_count": 18,
   "id": "03b5978c-bc85-48d7-9fbc-4529c436b38e",
   "metadata": {
    "tags": []
   },
   "outputs": [
    {
     "name": "stdout",
     "output_type": "stream",
     "text": [
      "99% Confidence Interval: (1.0952316686385626, 1.3821016646947706)\n"
     ]
    }
   ],
   "source": [
    "import numpy as np\n",
    "from scipy import stats\n",
    "\n",
    "data = np.array([1.13, 1.55, 1.43, 0.92, 1.25, 1.36, 1.32, 0.85, 1.07, 1.48, 1.20, 1.33, 1.18, 1.22, 1.29])\n",
    "\n",
    "# Calculate the sample mean and standard deviation\n",
    "sample_mean = np.mean(data)\n",
    "sample_std = np.std(data)\n",
    "\n",
    "# Calculate the critical value for a 99% confidence interval with 14 degrees of freedom\n",
    "critical_value = stats.t.ppf(1 - 0.01/2, 14)\n",
    "\n",
    "# Calculate the margin of error\n",
    "margin_error = critical_value * sample_std / np.sqrt(15)\n",
    "\n",
    "# Construct the confidence interval\n",
    "lower_bound = sample_mean - margin_error\n",
    "upper_bound = sample_mean + margin_error\n",
    "\n",
    "print(\"99% Confidence Interval:\", (lower_bound, upper_bound))"
   ]
  },
  {
   "cell_type": "markdown",
   "id": "d45356c3-8794-444e-95bd-a2f2408e5eb5",
   "metadata": {},
   "source": [
    "# Build 99% Confidence Interval Using Known Population Standard Deviation"
   ]
  },
  {
   "cell_type": "code",
   "execution_count": 21,
   "id": "0bb1133e-8730-4872-8bc0-54e26ac4085b",
   "metadata": {
    "tags": []
   },
   "outputs": [
    {
     "name": "stdout",
     "output_type": "stream",
     "text": [
      "99% Confidence Interval (Known Standard Deviation): (1.0849431688867082, 1.392390164446625)\n"
     ]
    }
   ],
   "source": [
    "import numpy as np\n",
    "known_std = 0.2\n",
    "\n",
    "# Calculate the critical value for a 99% confidence interval with 14 degrees of freedom\n",
    "critical_value = stats.t.ppf(1 - 0.01/2, 14)\n",
    "\n",
    "# Calculate the margin of error\n",
    "margin_error = critical_value * known_std / np.sqrt(15)\n",
    "\n",
    "# Construct the confidence interval\n",
    "lower_bound = sample_mean - margin_error\n",
    "upper_bound = sample_mean + margin_error\n",
    "\n",
    "print(\"99% Confidence Interval (Known Standard Deviation):\", (lower_bound, upper_bound))"
   ]
  }
 ],
 "metadata": {
  "kernelspec": {
   "display_name": "Python 3 (ipykernel)",
   "language": "python",
   "name": "python3"
  },
  "language_info": {
   "codemirror_mode": {
    "name": "ipython",
    "version": 3
   },
   "file_extension": ".py",
   "mimetype": "text/x-python",
   "name": "python",
   "nbconvert_exporter": "python",
   "pygments_lexer": "ipython3",
   "version": "3.11.7"
  }
 },
 "nbformat": 4,
 "nbformat_minor": 5
}
