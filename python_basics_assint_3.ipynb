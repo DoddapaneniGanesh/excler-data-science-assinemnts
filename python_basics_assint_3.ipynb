{
 "cells": [
  {
   "cell_type": "markdown",
   "metadata": {
    "id": "JSSHpii68EuG"
   },
   "source": [
    "# Exercise 1 :- program for checking Prime Numbers or not"
   ]
  },
  {
   "cell_type": "code",
   "execution_count": 2,
   "metadata": {
    "id": "R9c6MArp78uU",
    "tags": []
   },
   "outputs": [
    {
     "name": "stdin",
     "output_type": "stream",
     "text": [
      "Enter a number:  12\n"
     ]
    },
    {
     "name": "stdout",
     "output_type": "stream",
     "text": [
      "12 is not a prime number.\n"
     ]
    }
   ],
   "source": [
    "\"\"\"program for checking Prime Numbers or not \"\"\"\n",
    "\n",
    "def is_prime(num):\n",
    "  if num <= 1:\n",
    "    return False\n",
    "  for i in range(2, int(num**0.5) + 1):\n",
    "    if num % i == 0:\n",
    "      return False\n",
    "  return True\n",
    "\n",
    "input_num = int(input(\"Enter a number: \"))\n",
    "\n",
    "if is_prime(input_num):\n",
    "  print(f\"{input_num} is a prime number.\")\n",
    "else:\n",
    "  print(f\"{input_num} is not a prime number.\")"
   ]
  },
  {
   "cell_type": "markdown",
   "metadata": {
    "id": "P9jmAmyI8Vwh"
   },
   "source": [
    "# Exercise 2 :-program for Product of Random Numbers"
   ]
  },
  {
   "cell_type": "code",
   "execution_count": 5,
   "metadata": {
    "id": "HKxQbLZE8Q8J",
    "tags": []
   },
   "outputs": [
    {
     "name": "stdin",
     "output_type": "stream",
     "text": [
      "What is the product of 6 and 2?  8\n"
     ]
    },
    {
     "name": "stdout",
     "output_type": "stream",
     "text": [
      "Incorrect. The correct answer is 12\n"
     ]
    }
   ],
   "source": [
    "import random\n",
    "\n",
    "# Generate two random numbers\n",
    "num1 = random.randint(1, 10)\n",
    "num2 = random.randint(1, 10)\n",
    "\n",
    "# Ask the user to enter the product of the two numbers\n",
    "product = int(input(f\"What is the product of {num1} and {num2}? \"))\n",
    "\n",
    "# Check if the user's answer is correct\n",
    "if product == num1 * num2:\n",
    "  print(\"Correct!\")\n",
    "else:\n",
    "  print(\"Incorrect. The correct answer is\", num1 * num2)"
   ]
  },
  {
   "cell_type": "markdown",
   "metadata": {
    "id": "1lCEbmZz9Fk8"
   },
   "source": [
    "# Exercise 3 :-program for all even numbers within the range of 100 to 200"
   ]
  },
  {
   "cell_type": "code",
   "execution_count": 8,
   "metadata": {
    "id": "W9GR3x8s9LSr",
    "tags": []
   },
   "outputs": [
    {
     "name": "stdout",
     "output_type": "stream",
     "text": [
      "The square of 100 is 10000\n",
      "The square of 102 is 10404\n",
      "The square of 104 is 10816\n",
      "The square of 106 is 11236\n",
      "The square of 108 is 11664\n",
      "The square of 110 is 12100\n",
      "The square of 112 is 12544\n",
      "The square of 114 is 12996\n",
      "The square of 116 is 13456\n",
      "The square of 118 is 13924\n",
      "The square of 120 is 14400\n",
      "The square of 122 is 14884\n",
      "The square of 124 is 15376\n",
      "The square of 126 is 15876\n",
      "The square of 128 is 16384\n",
      "The square of 130 is 16900\n",
      "The square of 132 is 17424\n",
      "The square of 134 is 17956\n",
      "The square of 136 is 18496\n",
      "The square of 138 is 19044\n",
      "The square of 140 is 19600\n",
      "The square of 142 is 20164\n",
      "The square of 144 is 20736\n",
      "The square of 146 is 21316\n",
      "The square of 148 is 21904\n",
      "The square of 150 is 22500\n",
      "The square of 152 is 23104\n",
      "The square of 154 is 23716\n",
      "The square of 156 is 24336\n",
      "The square of 158 is 24964\n",
      "The square of 160 is 25600\n",
      "The square of 162 is 26244\n",
      "The square of 164 is 26896\n",
      "The square of 166 is 27556\n",
      "The square of 168 is 28224\n",
      "The square of 170 is 28900\n",
      "The square of 172 is 29584\n",
      "The square of 174 is 30276\n",
      "The square of 176 is 30976\n",
      "The square of 178 is 31684\n",
      "The square of 180 is 32400\n",
      "The square of 182 is 33124\n",
      "The square of 184 is 33856\n",
      "The square of 186 is 34596\n",
      "The square of 188 is 35344\n",
      "The square of 190 is 36100\n",
      "The square of 192 is 36864\n",
      "The square of 194 is 37636\n",
      "The square of 196 is 38416\n",
      "The square of 198 is 39204\n",
      "The square of 200 is 40000\n"
     ]
    }
   ],
   "source": [
    "for i in range(100, 201):\n",
    "  if i % 2 == 0:\n",
    "    square = i ** 2\n",
    "    print(f\"The square of {i} is {square}\")"
   ]
  },
  {
   "cell_type": "markdown",
   "metadata": {
    "id": "WE_14nKK-g97"
   },
   "source": [
    "# Exercise 4 :-program for words counting in a sentence"
   ]
  },
  {
   "cell_type": "code",
   "execution_count": 14,
   "metadata": {
    "id": "CamEqlez-siD",
    "tags": []
   },
   "outputs": [
    {
     "name": "stdin",
     "output_type": "stream",
     "text": [
      "Enter your sentence :  hello this is my assinement and this is my solution\n"
     ]
    },
    {
     "name": "stdout",
     "output_type": "stream",
     "text": [
      "'hello': 1\n",
      "'this': 2\n",
      "'is': 2\n",
      "'my': 2\n",
      "'assinement': 1\n",
      "'and': 1\n",
      "'solution': 1\n"
     ]
    }
   ],
   "source": [
    "\"\"\"program for words counting in a sentence\"\"\"\n",
    "\n",
    "input_text = input(\"Enter your sentence : \")\n",
    "\n",
    "# Split the text into words\n",
    "words = input_text.split()\n",
    "\n",
    "# Create a dictionary to store the word counts\n",
    "word_counts = {}\n",
    "\n",
    "# Count the occurrences of each word\n",
    "for word in words:\n",
    "  if word in word_counts:\n",
    "    word_counts[word] += 1\n",
    "  else:\n",
    "    word_counts[word] = 1\n",
    "\n",
    "# Print the word counts\n",
    "for word, count in word_counts.items():\n",
    "  print(f\"'{word}': {count}\")\n"
   ]
  },
  {
   "cell_type": "markdown",
   "metadata": {
    "id": "KrNTwxdBAS5F"
   },
   "source": [
    "# Exercise 5 :-program for checking palindrome true or fall"
   ]
  },
  {
   "cell_type": "code",
   "execution_count": 16,
   "metadata": {
    "id": "JqkQlopxAUhb",
    "tags": []
   },
   "outputs": [
    {
     "name": "stdin",
     "output_type": "stream",
     "text": [
      "Enter a word:  helloolleh\n"
     ]
    },
    {
     "name": "stdout",
     "output_type": "stream",
     "text": [
      "helloolleh is a palindrome.\n"
     ]
    }
   ],
   "source": [
    "#  write a program to check given palindrome is true or fall by taking input\n",
    "\n",
    "def is_palindrome(word):\n",
    "  \"\"\"\n",
    "  Checks if a word is a palindrome.\n",
    "\n",
    "  Args:\n",
    "    word: The word to check.\n",
    "\n",
    "  Returns:\n",
    "    True if the word is a palindrome, False otherwise.\n",
    "  \"\"\"\n",
    "\n",
    "  # Lowercase the word and remove all non-alphanumeric characters.\n",
    "  word = word.lower().replace(\" \", \"\")\n",
    "\n",
    "  # Check if the word is the same forwards and backwards.\n",
    "  return word == word[::-1]\n",
    "\n",
    "# Get the input word from the user.\n",
    "input_word = input(\"Enter a word: \")\n",
    "\n",
    "# Check if the word is a palindrome.\n",
    "if is_palindrome(input_word):\n",
    "  print(f\"{input_word} is a palindrome.\")\n",
    "else:\n",
    "  print(f\"{input_word} is not a palindrome.\")\n"
   ]
  },
  {
   "cell_type": "code",
   "execution_count": null,
   "metadata": {},
   "outputs": [],
   "source": []
  }
 ],
 "metadata": {
  "colab": {
   "authorship_tag": "ABX9TyPwSY9eCC3S0zLIInDgHyqu",
   "provenance": []
  },
  "kernelspec": {
   "display_name": "Python 3 (ipykernel)",
   "language": "python",
   "name": "python3"
  },
  "language_info": {
   "codemirror_mode": {
    "name": "ipython",
    "version": 3
   },
   "file_extension": ".py",
   "mimetype": "text/x-python",
   "name": "python",
   "nbconvert_exporter": "python",
   "pygments_lexer": "ipython3",
   "version": "3.11.7"
  }
 },
 "nbformat": 4,
 "nbformat_minor": 4
}
