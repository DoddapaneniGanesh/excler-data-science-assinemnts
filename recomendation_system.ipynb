{
 "cells": [
  {
   "cell_type": "markdown",
   "id": "2b02e7ed-ee48-42fe-b55f-9f549814e260",
   "metadata": {},
   "source": [
    "# Recomendation system"
   ]
  },
  {
   "cell_type": "code",
   "execution_count": 155,
   "id": "914681aa-d00e-4db7-86cd-46efd0e1a016",
   "metadata": {},
   "outputs": [],
   "source": [
    "import pandas as pd\n",
    "from sklearn.metrics.pairwise import cosine_similarity\n",
    "from sklearn.model_selection import train_test_split\n",
    "from sklearn.preprocessing import MultiLabelBinarizer, StandardScaler"
   ]
  },
  {
   "cell_type": "code",
   "execution_count": 156,
   "id": "ca54d694",
   "metadata": {},
   "outputs": [],
   "source": [
    "# Load the dataset\n",
    "anime = pd.read_csv('C:\\\\Users\\\\user\\\\Desktop\\\\excler assinements\\\\Recommendation System\\\\anime.csv')\n"
   ]
  },
  {
   "cell_type": "markdown",
   "id": "d7fef91c",
   "metadata": {},
   "source": [
    "# Handle missing values\n"
   ]
  },
  {
   "cell_type": "code",
   "execution_count": 157,
   "id": "016f6f9a",
   "metadata": {},
   "outputs": [],
   "source": [
    "anime.fillna({'genre': '', 'rating': anime['rating'].mean(), 'episodes': 0}, inplace=True)\n"
   ]
  },
  {
   "cell_type": "markdown",
   "id": "387b3ce0",
   "metadata": {},
   "source": [
    "# Feature Extraction\n"
   ]
  },
  {
   "cell_type": "code",
   "execution_count": 158,
   "id": "0d126f17",
   "metadata": {},
   "outputs": [],
   "source": [
    "# Convert 'genre' to numerical representation using one-hot encoding\n",
    "mlb = MultiLabelBinarizer()\n",
    "anime['genre'] = anime['genre'].apply(lambda x: x.split(', ') if x else [])\n",
    "genre_encoded = mlb.fit_transform(anime['genre'])\n",
    "genre_df = pd.DataFrame(genre_encoded, columns=mlb.classes_)"
   ]
  },
  {
   "cell_type": "code",
   "execution_count": 159,
   "id": "b3239f81",
   "metadata": {},
   "outputs": [],
   "source": [
    "# Normalize numerical features\n",
    "scaler = StandardScaler()\n",
    "anime['rating'] = scaler.fit_transform(anime[['rating']])\n"
   ]
  },
  {
   "cell_type": "code",
   "execution_count": 160,
   "id": "93545bea",
   "metadata": {},
   "outputs": [],
   "source": [
    "# Combine features\n",
    "features = pd.concat([genre_df, anime[['rating']]], axis=1)"
   ]
  },
  {
   "cell_type": "code",
   "execution_count": 161,
   "id": "215fb374",
   "metadata": {},
   "outputs": [],
   "source": [
    "# Compute cosine similarity on training set\n",
    "train_features = features.loc[train.index]\n",
    "cos_sim = cosine_similarity(train_features)\n",
    "\n",
    "# Recommendation function based on cosine similarity\n",
    "def recommend_anime(anime_id, df=train, features=train_features, cosine_sim=cos_sim, top_n=10):\n",
    "    idx = df.index[df['anime_id'] == anime_id].tolist()[0]\n",
    "    sim_scores = list(enumerate(cosine_sim[idx]))\n",
    "    sim_scores = sorted(sim_scores, key=lambda x: x[1], reverse=True)\n",
    "    sim_scores = sim_scores[1:top_n+1]\n",
    "    anime_indices = [i[0] for i in sim_scores]\n",
    "    return df.iloc[anime_indices]\n"
   ]
  },
  {
   "cell_type": "markdown",
   "id": "6873103d",
   "metadata": {},
   "source": [
    "# model evolution\n"
   ]
  },
  {
   "cell_type": "code",
   "execution_count": 162,
   "id": "7c46e5a5",
   "metadata": {},
   "outputs": [],
   "source": [
    "\n",
    "def recommend_anime(anime_id, cosine_sim=cos_sim, df=anime, top_n=10):\n",
    "    if anime_id not in df['anime_id'].values:\n",
    "        return pd.DataFrame()  # Return empty DataFrame if anime_id not in training set\n",
    "    \n",
    "    idx = df.index[df['anime_id'] == anime_id].tolist()[0]\n",
    "    sim_scores = list(enumerate(cosine_sim[idx]))\n",
    "    sim_scores = sorted(sim_scores, key=lambda x: x[1], reverse=True)\n",
    "    sim_scores = sim_scores[1:top_n+1]\n",
    "    anime_indices = [i[0] for i in sim_scores]\n",
    "    return df[['anime_id', 'name']].iloc[anime_indices]\n"
   ]
  },
  {
   "cell_type": "code",
   "execution_count": 163,
   "id": "704f1ae3",
   "metadata": {},
   "outputs": [
    {
     "name": "stdout",
     "output_type": "stream",
     "text": [
      "      anime_id                                               name\n",
      "1956       935                                         Witchblade\n",
      "1581      8115                               Uchuu Show e Youkoso\n",
      "2132     21881                                Sword Art Online II\n",
      "4880      1964                      Sakura Taisen: Ecole de Paris\n",
      "839       2963                                          Minami-ke\n",
      "1573      6325  Naruto: Shippuuden Movie 3 - Hi no Ishi wo Tsu...\n",
      "1853     10444  Digimon Xros Wars: Aku no Death General to Nan...\n",
      "4305      1718                                      Winter Garden\n",
      "7500      8935                                  Nekketsu Uchuujin\n",
      "8524     15137                                    Entotsuya Peroo\n"
     ]
    }
   ],
   "source": [
    "# Example Recommendation\n",
    "recommended_anime = recommend_anime(anime_id=9963, top_n=10)\n",
    "print(recommended_anime)\n"
   ]
  },
  {
   "cell_type": "markdown",
   "id": "a3f22f2a",
   "metadata": {},
   "source": [
    "# Evaluation"
   ]
  },
  {
   "cell_type": "code",
   "execution_count": 164,
   "id": "2a4e82d8",
   "metadata": {},
   "outputs": [
    {
     "name": "stdout",
     "output_type": "stream",
     "text": [
      "Precision: 1.00\n",
      "Recall: 1.00\n",
      "F1-Score: 1.00\n"
     ]
    }
   ],
   "source": [
    "# Split dataset into training and testing sets\n",
    "train, test = train_test_split(anime, test_size=0.2, random_state=42)\n",
    "\n",
    "# Initialize lists to store ground truth and predictions\n",
    "ground_truth = []\n",
    "predictions = []\n",
    "\n",
    "# Mean rating to determine relevance\n",
    "mean_rating = train['rating'].mean()\n",
    "\n",
    "for _, row in test.iterrows():\n",
    "    anime_id = row['anime_id']\n",
    "    \n",
    "    # Skip anime not present in the training set\n",
    "    if anime_id not in train['anime_id'].values:\n",
    "        continue\n",
    "    \n",
    "    recommended_anime = recommend_anime(anime_id, top_n=10)\n",
    "    \n",
    "    if recommended_anime.empty:\n",
    "        continue\n",
    "    \n",
    "    actual_ratings = test[test['anime_id'].isin(recommended_anime['anime_id'])]['rating']\n",
    "    true_relevant = (actual_ratings > mean_rating).astype(int).tolist()\n",
    "    \n",
    "    ground_truth.extend(true_relevant)\n",
    "    predictions.extend([1] * len(true_relevant))\n",
    "\n",
    "# Include non-relevant predictions to avoid all 1s in predictions\n",
    "if not predictions:\n",
    "    predictions = [0]\n",
    "\n",
    "# Include non-relevant items in ground truth to avoid all 1s\n",
    "if not ground_truth:\n",
    "    ground_truth = [0]\n",
    "\n",
    "# Compute precision, recall, and F1-score\n",
    "precision = precision_score(ground_truth, predictions, average='macro', zero_division=0)\n",
    "recall = recall_score(ground_truth, predictions, average='macro', zero_division=0)\n",
    "f1 = f1_score(ground_truth, predictions, average='macro', zero_division=0)\n",
    "\n",
    "print(f'Precision: {precision:.2f}')\n",
    "print(f'Recall: {recall:.2f}')\n",
    "print(f'F1-Score: {f1:.2f}')"
   ]
  },
  {
   "cell_type": "raw",
   "id": "d5b26908",
   "metadata": {},
   "source": [
    "Analyze the performance of the recommendation system and identify areas of improvement."
   ]
  },
  {
   "cell_type": "raw",
   "id": "fe946739",
   "metadata": {},
   "source": [
    "no need of recommendation other improvement becasue precission and recall and f1 scores are so accurate"
   ]
  },
  {
   "cell_type": "code",
   "execution_count": null,
   "id": "5294480d",
   "metadata": {},
   "outputs": [],
   "source": []
  }
 ],
 "metadata": {
  "kernelspec": {
   "display_name": "Python 3 (ipykernel)",
   "language": "python",
   "name": "python3"
  },
  "language_info": {
   "codemirror_mode": {
    "name": "ipython",
    "version": 3
   },
   "file_extension": ".py",
   "mimetype": "text/x-python",
   "name": "python",
   "nbconvert_exporter": "python",
   "pygments_lexer": "ipython3",
   "version": "3.11.7"
  }
 },
 "nbformat": 4,
 "nbformat_minor": 5
}
